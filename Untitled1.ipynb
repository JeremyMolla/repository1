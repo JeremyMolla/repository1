{
  "nbformat": 4,
  "nbformat_minor": 0,
  "metadata": {
    "colab": {
      "name": "Untitled1.ipynb",
      "provenance": [],
      "toc_visible": true,
      "include_colab_link": true
    },
    "kernelspec": {
      "name": "python3",
      "display_name": "Python 3"
    },
    "language_info": {
      "name": "python"
    }
  },
  "cells": [
    {
      "cell_type": "markdown",
      "metadata": {
        "id": "view-in-github",
        "colab_type": "text"
      },
      "source": [
        "<a href=\"https://colab.research.google.com/github/JeremyMolla/repository1/blob/main/Untitled1.ipynb\" target=\"_parent\"><img src=\"https://colab.research.google.com/assets/colab-badge.svg\" alt=\"Open In Colab\"/></a>"
      ]
    },
    {
      "cell_type": "code",
      "execution_count": null,
      "metadata": {
        "id": "pRha_O7mDrnA"
      },
      "outputs": [],
      "source": [
        "#Description: This is a Monty Hall Simulation\n"
      ]
    },
    {
      "cell_type": "code",
      "source": [
        ""
      ],
      "metadata": {
        "id": "Nx654HY7Kmhv"
      },
      "execution_count": null,
      "outputs": []
    },
    {
      "cell_type": "code",
      "source": [
        "#Import the libraries\n",
        "import random\n",
        "import matplotlib.pyplot as plt\n",
        "plt.style.use('fivethirtyeight')"
      ],
      "metadata": {
        "id": "DYE8jHYpEGcI"
      },
      "execution_count": null,
      "outputs": []
    },
    {
      "cell_type": "code",
      "source": [
        "#Creat a function for the host to reveal a door that doesn't contain \n",
        "#the prize and the door that isn't the contestants/players original choice\n",
        "\n",
        "def get_non_prize_door(host,num_doors,player_choice):\n",
        "  i = 1\n",
        "  while(i==host or i == player_choice):\n",
        "    i = (i+1)%(num_doors)\n",
        "\n",
        "  return i\n",
        "\n"
      ],
      "metadata": {
        "id": "XVBvsdqyESiH"
      },
      "execution_count": null,
      "outputs": []
    },
    {
      "cell_type": "code",
      "source": [
        "#Create a function to have the player switch to the other unopened door\n",
        "def switch_fucntion(shown_door,num_doors,player_choice):\n",
        "  i=1\n",
        "  while(i==shown_door or i==player_choice):\n",
        "    i=(i+1)%(num_doors)\n",
        "\n",
        "  return i\n"
      ],
      "metadata": {
        "id": "fEpxfNF9G4Vr"
      },
      "execution_count": null,
      "outputs": []
    },
    {
      "cell_type": "code",
      "source": [
        "#Creat a function to simulate the game\n",
        "def monty_hall_game(switch,num_tests):\n",
        "  win_switch_cnt = 0\n",
        "  win_no_switch_cnt = 0\n",
        "  lose_switch_cnt = 0\n",
        "  lose_no_switch_cnt = 0\n",
        "\n",
        "  doors = [0,1,2]\n",
        "  num_doors = len(doors)\n",
        "\n",
        "  #Loop through the number of times the constestant/player can play the game\n",
        "  for i in range(0,num_tests):\n",
        "    door_with_prize = random.randint(0,num_doors-1) #Randomly choose a door between [0,2]:\n",
        "    host = door_with_prize\n",
        "    player_choice = random.randint(0,num_doors-1)\n",
        "    original_player_choice = player_choice\n",
        "    shown_door = get_non_prize_door(host,num_doors,player_choice)\n",
        "\n",
        "    #if the player chooses to always switch, then allow the player to switch their original chosen door to the other unopened door\n",
        "    if switch == True:\n",
        "      player_choice = switch_fucntion(shown_door,num_doors,player_choice)\n",
        "\n",
        "    if player_choice == door_with_prize and switch == False:\n",
        "      #Then the players wins from not switching\n",
        "      print('Player wins (No switch) - The player chose dooor #',player_choice,'Original door choice:',original_player_choice,'Door with prize:',door_with_prize,'Shown door:',shown_door)\n",
        "      win_no_switch_cnt = win_no_switch_cnt + 1\n",
        "    elif player_choice == door_with_prize and switch == True:\n",
        "      #Then the players wins from switching\n",
        "      print('Player wins (switch) - The player chose dooor #',player_choice,'Original door choice:',original_player_choice,'Door with prize:',door_with_prize,'Shown door:',shown_door)\n",
        "      win_switch_cnt = win_switch_cnt + 1\n",
        "    elif player_choice != door_with_prize and switch == False:\n",
        "      #Then the players lost from not switching\n",
        "      print('Player lost (No switch) - The player chose dooor #',player_choice,'Original door choice:',original_player_choice,'Door with prize:',door_with_prize,'Shown door:',shown_door)\n",
        "      lose_no_switch_cnt = lose_no_switch_cnt + 1\n",
        "    elif player_choice != door_with_prize and switch == True:\n",
        "      #Then the players lost from switching\n",
        "      print('Player lost (switch) - The player chose dooor #',player_choice,'Original door choice:',original_player_choice,'Door with prize:',door_with_prize,'Shown door:',shown_door)\n",
        "      lose_switch_cnt = lose_switch_cnt + 1\n",
        "    else:\n",
        "      print('Something is wrong')\n",
        "\n",
        "  return win_no_switch_cnt, win_switch_cnt, lose_no_switch_cnt, lose_switch_cnt, num_tests\n"
      ],
      "metadata": {
        "id": "9mYj2NCTE2UZ"
      },
      "execution_count": null,
      "outputs": []
    },
    {
      "cell_type": "code",
      "source": [
        "#Play the game\n",
        "x = monty_hall_game(True,10) # x = [win_no_switch_cnt, win_switch_cnt, lose_no_switch_cnt, lose_switch_cnt, num_tests]"
      ],
      "metadata": {
        "colab": {
          "base_uri": "https://localhost:8080/"
        },
        "id": "1OydlvmlQLiY",
        "outputId": "b2f8063f-5cca-47e2-8dad-e36f2310ad6e"
      },
      "execution_count": null,
      "outputs": [
        {
          "output_type": "stream",
          "name": "stdout",
          "text": [
            "Player wins (switch) - The player chose dooor # 0 Original door choice: 1 Door with prize: 0 Shown door: 2\n",
            "Player lost (switch) - The player chose dooor # 0 Original door choice: 1 Door with prize: 1 Shown door: 2\n",
            "Player wins (switch) - The player chose dooor # 1 Original door choice: 2 Door with prize: 1 Shown door: 0\n",
            "Player wins (switch) - The player chose dooor # 0 Original door choice: 2 Door with prize: 0 Shown door: 1\n",
            "Player wins (switch) - The player chose dooor # 2 Original door choice: 1 Door with prize: 2 Shown door: 0\n",
            "Player wins (switch) - The player chose dooor # 2 Original door choice: 0 Door with prize: 2 Shown door: 1\n",
            "Player lost (switch) - The player chose dooor # 0 Original door choice: 2 Door with prize: 2 Shown door: 1\n",
            "Player wins (switch) - The player chose dooor # 2 Original door choice: 1 Door with prize: 2 Shown door: 0\n",
            "Player wins (switch) - The player chose dooor # 1 Original door choice: 0 Door with prize: 1 Shown door: 2\n",
            "Player lost (switch) - The player chose dooor # 0 Original door choice: 2 Door with prize: 2 Shown door: 1\n"
          ]
        }
      ]
    },
    {
      "cell_type": "code",
      "source": [
        "x"
      ],
      "metadata": {
        "colab": {
          "base_uri": "https://localhost:8080/"
        },
        "id": "-vJJ_PZ5TlqV",
        "outputId": "837a97e4-314b-45a3-c58d-b7ef3ce83f9e"
      },
      "execution_count": null,
      "outputs": [
        {
          "output_type": "execute_result",
          "data": {
            "text/plain": [
              "(0, 7, 0, 3, 10)"
            ]
          },
          "metadata": {},
          "execution_count": 28
        }
      ]
    },
    {
      "cell_type": "code",
      "source": [
        "#Get the win & lost percentage for switching or not switching\n",
        "print('win switch %:', x[1]/x[4])\n",
        "print('lose switch %:', x[3]/x[4])\n",
        "print('win no switch %:', x[0]/x[4])\n",
        "print('lose no switch %:', x[2]/x[4])"
      ],
      "metadata": {
        "colab": {
          "base_uri": "https://localhost:8080/"
        },
        "id": "SC7hsVkJRrOv",
        "outputId": "4a45ea04-c8a3-48fe-f6a1-b78479dd474d"
      },
      "execution_count": null,
      "outputs": [
        {
          "output_type": "stream",
          "name": "stdout",
          "text": [
            "win switch %: 0.7\n",
            "lose switch %: 0.3\n",
            "win no switch %: 0.0\n",
            "lose no switch %: 0.0\n"
          ]
        }
      ]
    }
  ]
}